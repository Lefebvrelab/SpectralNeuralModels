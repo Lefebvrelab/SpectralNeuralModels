{
 "cells": [
  {
   "cell_type": "markdown",
   "metadata": {},
   "source": [
    "# Robinson Spectral Model Notes"
   ]
  },
  {
   "cell_type": "markdown",
   "metadata": {},
   "source": [
    "## Setup"
   ]
  },
  {
   "cell_type": "markdown",
   "metadata": {},
   "source": [
    "Define some variables"
   ]
  },
  {
   "cell_type": "code",
   "execution_count": 16,
   "metadata": {},
   "outputs": [],
   "source": [
    "# blah"
   ]
  },
  {
   "cell_type": "markdown",
   "metadata": {},
   "source": [
    "Importage"
   ]
  },
  {
   "cell_type": "code",
   "execution_count": 21,
   "metadata": {},
   "outputs": [],
   "source": [
    "import numpy as np\n",
    "from numpy import pi,abs,exp"
   ]
  },
  {
   "cell_type": "markdown",
   "metadata": {},
   "source": [
    "## Define functions"
   ]
  },
  {
   "cell_type": "markdown",
   "metadata": {},
   "source": [
    "Model classes"
   ]
  },
  {
   "cell_type": "code",
   "execution_count": 84,
   "metadata": {},
   "outputs": [],
   "source": [
    "class Rowe2004Model(object):\n",
    "\n",
    "    def __init__(self,freqs=None,alpha = 88.,gamma = 71.8, t_0 = 79.2,\n",
    "                 G_ee = 3.8,G_ei = -8.,G_ese = 10.8, G_esre = -5.7,\n",
    "                 G_srs = -0.34, p_0 = 2.94,\n",
    "                 r_e=80.):\n",
    "        \n",
    "        # Initialize parameters\n",
    "        \n",
    "        \"\"\"\n",
    "        self.alpha = alpha\n",
    "        self.gamma = gamma\n",
    "        self.t_0 = t_0\n",
    "        self.G_ee = G_ee\n",
    "        self.G_ei = G_ei\n",
    "        #self.G_se = G_se\n",
    "        self.G_ese = G_es*G_se # G_ese\n",
    "        self.G_esre = G_es*G_sr*G_re #G_esre\n",
    "        self.G_srs = G_srs\n",
    "        self.G_srs = G_srs\n",
    "        self.c_p_0 = p_0\n",
    "        \n",
    "        self.r_e = r_e # what is right value o fthis?\n",
    "        \"\"\";\n",
    "        \n",
    "        self.freqs = freqs\n",
    "        \n",
    "        # Table 1\n",
    "        self.sigma_e = 3.3\n",
    "        self.theta_e = 15.\n",
    "        self.alpha = 40.\n",
    "        self.beta_over_alpha = 4.0\n",
    "        self.beta = self.beta_over_alpha * self.alpha\n",
    "        \n",
    "        \n",
    "        self.r_e = 80.\n",
    "        self.r_i = self.r_r = self.r_s = None\n",
    "       \n",
    "        #self.r_e = 0.08 # from Rowe et al. 2004\n",
    "        #self.r2 = self.r**2\n",
    "       \n",
    "        \n",
    "        self.va = 8.\n",
    "        self.t0 = 84.\n",
    "        self.k0 = 30.\n",
    "        self.v_ee = self.v_es = self.v_se = 1.2\n",
    "        self.v_ei = -1.8\n",
    "        self.v_re = 0.4\n",
    "        self.v_rs = 0.2\n",
    "        self.v_sr = -0.8\n",
    "\n",
    "        self.v_sn_phi_n = 1.0\n",
    "\n",
    "        self.gamma_e = 130.\n",
    "\n",
    "        self.gamma_i = self.gamma_r = self.gamma_s = 10E4\n",
    "\n",
    "        self.Q_a = 250.\n",
    "\n",
    "        self.G_ee = 6.\n",
    "        self.G_ei = -7.\n",
    "        self.G_srs = -0.4\n",
    "        self.G_esre = -3. \n",
    "        self.G_ese = 5.  # G_ese = G_es * G_se\n",
    "\n",
    "        self.G_es = -0.03 # from Robinson et al. 2001. Can this be calculated from other numbers??\n",
    "        self.G_se = self.G_ese / self.G_es\n",
    "        \n",
    "   \n",
    "        self.G_rs = 0.1  # from Abeysuria 2015\n",
    "        self.G_sr = self.G_srs / self.G_rs \n",
    "\n",
    "        self.G_re = 0.2  # from Abeysuria 2015\n",
    "        \n",
    "        \n",
    "        self.G_sn = 1. # JG random choice\n",
    "        self.G_ie = 1. # JG random choice\n",
    "        \n",
    "        \n",
    "        self.lx = 0.5 # from Abeysuria. Unit = m.\n",
    "        self.ly = 0.5 # from Abeysuria. Unit = m.\n",
    "        \n",
    "        \n",
    "        #self.phi_n = np.random.rand(1,self.freq)  # Rowe et al. 2004 \"The driving signalfnis approximated as white noise inspace and time, as in our previous work\"\n",
    "        self.phi_n = np.random.rand(1,self.freqs.shape[0])\n",
    "        \n",
    "        \n",
    "        \n",
    "        self.freq_min = 5.\n",
    "        self.freq_max = 100\n",
    "        \n",
    "        self.fmax = 50. # near eqn. 14 Rowe\n",
    "        \n",
    "        \n",
    "        \n",
    "    def compute_L(self,omega):\n",
    "        # Rowe et al. Eq \n",
    "    \n",
    "        a,b = self.alpha,self.beta\n",
    "    \n",
    "        # omega = 2 pi f is angular frequency\n",
    "        # f is freq in Hz\n",
    "        L = (1. - 1j*omega / a)**-1 * (1 - 1j*omega / b ) **-1\n",
    "        return L\n",
    "\n",
    "\n",
    "    def compute_T(self,omega):\n",
    "        # Rowe et al. Eq. 9\n",
    "        \n",
    "        G_sn,G_sr,G_rs,t0 = self.G_sn,self.G_sr,self.G_rs,self.t0\n",
    "    \n",
    "        L = self.compute_L(omega)\n",
    "    \n",
    "        T = ( L*G_sn * exp(1j*omega *t0 / 2.)  )  / ( 1 - L*G_sr * L * G_rs)\n",
    "    \n",
    "        return T\n",
    "\n",
    "\n",
    "    def compute_S(self,omega):\n",
    "        \n",
    "        G_se,G_sr,G_re,G_rs,t0 = self.G_se,self.G_sr,self.G_re,self.G_rs,self.t0\n",
    "    \n",
    "        # Rowe et al. Eq. 10\n",
    "    \n",
    "        L = self.compute_L(omega)\n",
    "    \n",
    "        S = ( (L * G_se + L * G_sr + L * G_re ) * exp(1j*omega*t0 / 2.) ) / ( 1. - L * G_sr * L * G_rs)\n",
    "    \n",
    "        return S\n",
    "\n",
    "\n",
    "    def compute_q2r2(self,omega):\n",
    "        \n",
    "        G_ee,G_es,G_ei,gamma_e = self.G_ee,self.G_es,self.G_ei,self.gamma_e\n",
    "        \n",
    "        # Eq 12\n",
    "        L = self.compute_L(omega)\n",
    "        S = self.compute_S(omega)\n",
    "    \n",
    "        q2r2 = ( 1 - ((1j * omega) / gamma_e))**2    - ( (G_ee * L + G_es * L * S ) / (1 - G_ei * L) )\n",
    "    \n",
    "        return q2r2\n",
    "\n",
    "\n",
    "\n",
    "\n",
    "    def compute_P0(self):\n",
    "        \n",
    "        # Eq 13\n",
    "        \n",
    "        phi_n,G_es,G_sn,r_e = self.phi_n,self.G_es,self.G_sn,self.r_e\n",
    "        \n",
    "        P0 = (( pi * abs(phi_n)**2 ) / r_e**2 ) * G_es * G_sn\n",
    "\n",
    "        return P0\n",
    "\n",
    "    def compute_k2r2(self,m,n):\n",
    "    \n",
    "        r_e,lx,ly = self.r_e,self.lx,self.ly\n",
    "    \n",
    "        term1 = (2. * pi ** m * r_e / lx)**2\n",
    "        term2 = (2. * pi * n * r_e / ly)**2\n",
    "    \n",
    "        return term1 + term2\n",
    "\n",
    "    \n",
    "    def compute_P_EEG(self):\n",
    "    \n",
    "        G_sn,G_ie,lx,ly,r_e = self.G_sn,self.G_ie,self.lx,self.ly,self.r_e\n",
    "        k0 = self.k0\n",
    "        \n",
    "        P0 = self.compute_P0()\n",
    "        L = self.compute_L(self.freqs)\n",
    "        T = self.compute_T(self.freqs)\n",
    "        q2r2 = self.compute_q2r2(self.freqs)\n",
    "        \n",
    "        fmax = self.fmax\n",
    "        \n",
    "        \n",
    "        term1  = P0 * abs(  ((L * T) / G_sn) / ( 1- G_ie * L ) )** 2 * (2 * pi)**2 / (lx*ly)\n",
    "            \n",
    "        term2 = 0\n",
    "        for m in np.arange(-fmax,fmax):\n",
    "            for n in  np.arange(-fmax,fmax):\n",
    "                \n",
    "                k2r2 = self.compute_k2r2(m,n)\n",
    "                k2 = k2r2/(r_e**2.)\n",
    "                \n",
    "                term2+= (exp((-k2**2)/(k0**2)) ) /  abs(k2 * r_e**2. + q2r2) **2                          \n",
    "                          \n",
    "                    \n",
    "        \n",
    "                    \n",
    "        return term1 * term2                \n",
    "        "
   ]
  },
  {
   "cell_type": "code",
   "execution_count": 85,
   "metadata": {},
   "outputs": [
    {
     "name": "stderr",
     "output_type": "stream",
     "text": [
      "c:\\users\\john\\miniconda2\\lib\\site-packages\\ipykernel_launcher.py:180: RuntimeWarning: divide by zero encountered in divide\n",
      "c:\\users\\john\\miniconda2\\lib\\site-packages\\ipykernel_launcher.py:180: RuntimeWarning: invalid value encountered in divide\n"
     ]
    }
   ],
   "source": [
    "freqs = np.linspace(0,100)\n",
    "\n",
    "mod = Rowe2004Model(freqs=freqs)\n",
    "\n",
    "L = mod.compute_L(freqs)\n",
    "\n",
    "S = mod.compute_S(freqs)\n",
    "\n",
    "P0 = mod.compute_P0()#freqs)\n",
    "\n",
    "EEG = mod.compute_P_EEG()#freqs)\n",
    "\n"
   ]
  },
  {
   "cell_type": "code",
   "execution_count": 93,
   "metadata": {},
   "outputs": [],
   "source": [
    "%matplotlib inline\n",
    "from matplotlib import pyplot as plt\n",
    "import pandas as pd\n",
    "\n",
    "df_EEG = pd.DataFrame(np.squeeze(EEG))"
   ]
  },
  {
   "cell_type": "code",
   "execution_count": 99,
   "metadata": {},
   "outputs": [
    {
     "data": {
      "text/plain": [
       "<matplotlib.axes._subplots.AxesSubplot at 0x17e15eb8>"
      ]
     },
     "execution_count": 99,
     "metadata": {},
     "output_type": "execute_result"
    },
    {
     "data": {
      "image/png": "[encoded data removed]",
      "text/plain": [
       "<Figure size 432x288 with 1 Axes>"
      ]
     },
     "metadata": {},
     "output_type": "display_data"
    }
   ],
   "source": [
    "df_EEG.abs().plot(logx=True,logy=True)"
   ]
  },
  {
   "cell_type": "code",
   "execution_count": 87,
   "metadata": {},
   "outputs": [
    {
     "ename": "NameError",
     "evalue": "name 'plt' is not defined",
     "output_type": "error",
     "traceback": [
      "\u001b[1;31m---------------------------------------------------------------------------\u001b[0m",
      "\u001b[1;31mNameError\u001b[0m                                 Traceback (most recent call last)",
      "\u001b[1;32m<ipython-input-87-fba8d2d1ac7b>\u001b[0m in \u001b[0;36m<module>\u001b[1;34m()\u001b[0m\n\u001b[1;32m----> 1\u001b[1;33m \u001b[0mplt\u001b[0m\u001b[1;33m.\u001b[0m\u001b[0mplot\u001b[0m\u001b[1;33m(\u001b[0m\u001b[0mEEG\u001b[0m\u001b[1;33m)\u001b[0m\u001b[1;33m\u001b[0m\u001b[0m\n\u001b[0m",
      "\u001b[1;31mNameError\u001b[0m: name 'plt' is not defined"
     ]
    }
   ],
   "source": [
    "plt.plot(EEG)"
   ]
  },
  {
   "cell_type": "code",
   "execution_count": 69,
   "metadata": {},
   "outputs": [
    {
     "name": "stdout",
     "output_type": "stream",
     "text": [
      "> \u001b[1;32m<ipython-input-67-5c34f85fa6a8>\u001b[0m(152)\u001b[0;36mcompute_P0\u001b[1;34m()\u001b[0m\n",
      "\u001b[1;32m    150 \u001b[1;33m        \u001b[0mphi_n\u001b[0m\u001b[1;33m,\u001b[0m\u001b[0mG_es\u001b[0m\u001b[1;33m,\u001b[0m\u001b[0mG_sn\u001b[0m\u001b[1;33m,\u001b[0m\u001b[0mr_e\u001b[0m \u001b[1;33m=\u001b[0m \u001b[0mself\u001b[0m\u001b[1;33m.\u001b[0m\u001b[0mphi_n\u001b[0m\u001b[1;33m,\u001b[0m\u001b[0mself\u001b[0m\u001b[1;33m.\u001b[0m\u001b[0mG_es\u001b[0m\u001b[1;33m,\u001b[0m\u001b[0mself\u001b[0m\u001b[1;33m.\u001b[0m\u001b[0mG_sn\u001b[0m\u001b[1;33m,\u001b[0m\u001b[0mself\u001b[0m\u001b[1;33m.\u001b[0m\u001b[0mr_e\u001b[0m\u001b[1;33m\u001b[0m\u001b[0m\n",
      "\u001b[0m\u001b[1;32m    151 \u001b[1;33m\u001b[1;33m\u001b[0m\u001b[0m\n",
      "\u001b[0m\u001b[1;32m--> 152 \u001b[1;33m        \u001b[0mP0\u001b[0m \u001b[1;33m=\u001b[0m \u001b[1;33m(\u001b[0m\u001b[1;33m(\u001b[0m \u001b[0mpi\u001b[0m \u001b[1;33m*\u001b[0m \u001b[0mabs\u001b[0m\u001b[1;33m(\u001b[0m\u001b[0mphi_n\u001b[0m\u001b[1;33m)\u001b[0m\u001b[1;33m**\u001b[0m\u001b[1;36m2\u001b[0m \u001b[1;33m)\u001b[0m \u001b[1;33m/\u001b[0m \u001b[0mr_e\u001b[0m\u001b[1;33m**\u001b[0m\u001b[1;36m2\u001b[0m \u001b[1;33m)\u001b[0m \u001b[1;33m*\u001b[0m \u001b[0mG_es\u001b[0m \u001b[1;33m*\u001b[0m \u001b[0mG_sn\u001b[0m\u001b[1;33m\u001b[0m\u001b[0m\n",
      "\u001b[0m\u001b[1;32m    153 \u001b[1;33m\u001b[1;33m\u001b[0m\u001b[0m\n",
      "\u001b[0m\u001b[1;32m    154 \u001b[1;33m        \u001b[1;32mreturn\u001b[0m \u001b[0mP0\u001b[0m\u001b[1;33m\u001b[0m\u001b[0m\n",
      "\u001b[0m\n",
      "ipdb> r_e\n",
      "ipdb> l(100,160)\n",
      "\u001b[0;32m    100 \u001b[0m        \u001b[1;31m# omega = 2 pi f is angular frequency\u001b[0m\u001b[1;33m\u001b[0m\u001b[1;33m\u001b[0m\u001b[0m\n",
      "\u001b[0;32m    101 \u001b[0m        \u001b[1;31m# f is freq in Hz\u001b[0m\u001b[1;33m\u001b[0m\u001b[1;33m\u001b[0m\u001b[0m\n",
      "\u001b[0;32m    102 \u001b[0m        \u001b[0mL\u001b[0m \u001b[1;33m=\u001b[0m \u001b[1;33m(\u001b[0m\u001b[1;36m1.\u001b[0m \u001b[1;33m-\u001b[0m \u001b[1;36m1j\u001b[0m\u001b[1;33m*\u001b[0m\u001b[0momega\u001b[0m \u001b[1;33m/\u001b[0m \u001b[0ma\u001b[0m\u001b[1;33m)\u001b[0m\u001b[1;33m**\u001b[0m\u001b[1;33m-\u001b[0m\u001b[1;36m1\u001b[0m \u001b[1;33m*\u001b[0m \u001b[1;33m(\u001b[0m\u001b[1;36m1\u001b[0m \u001b[1;33m-\u001b[0m \u001b[1;36m1j\u001b[0m\u001b[1;33m*\u001b[0m\u001b[0momega\u001b[0m \u001b[1;33m/\u001b[0m \u001b[0mb\u001b[0m \u001b[1;33m)\u001b[0m \u001b[1;33m**\u001b[0m\u001b[1;33m-\u001b[0m\u001b[1;36m1\u001b[0m\u001b[1;33m\u001b[0m\u001b[0m\n",
      "\u001b[0;32m    103 \u001b[0m        \u001b[1;32mreturn\u001b[0m \u001b[0mL\u001b[0m\u001b[1;33m\u001b[0m\u001b[0m\n",
      "\u001b[0;32m    104 \u001b[0m\u001b[1;33m\u001b[0m\u001b[0m\n",
      "\u001b[0;32m    105 \u001b[0m\u001b[1;33m\u001b[0m\u001b[0m\n",
      "\u001b[0;32m    106 \u001b[0m    \u001b[1;32mdef\u001b[0m \u001b[0mcompute_T\u001b[0m\u001b[1;33m(\u001b[0m\u001b[0mself\u001b[0m\u001b[1;33m,\u001b[0m\u001b[0momega\u001b[0m\u001b[1;33m)\u001b[0m\u001b[1;33m:\u001b[0m\u001b[1;33m\u001b[0m\u001b[0m\n",
      "\u001b[0;32m    107 \u001b[0m        \u001b[1;31m# Rowe et al. Eq. 9\u001b[0m\u001b[1;33m\u001b[0m\u001b[1;33m\u001b[0m\u001b[0m\n",
      "\u001b[0;32m    108 \u001b[0m\u001b[1;33m\u001b[0m\u001b[0m\n",
      "\u001b[0;32m    109 \u001b[0m        \u001b[0mG_sn\u001b[0m\u001b[1;33m,\u001b[0m\u001b[0mG_sr\u001b[0m\u001b[1;33m,\u001b[0m\u001b[0mG_rs\u001b[0m\u001b[1;33m,\u001b[0m\u001b[0mt0\u001b[0m \u001b[1;33m=\u001b[0m \u001b[0mself\u001b[0m\u001b[1;33m.\u001b[0m\u001b[0mG_sn\u001b[0m\u001b[1;33m,\u001b[0m\u001b[0mself\u001b[0m\u001b[1;33m.\u001b[0m\u001b[0mG_sr\u001b[0m\u001b[1;33m,\u001b[0m\u001b[0mself\u001b[0m\u001b[1;33m.\u001b[0m\u001b[0mG_rs\u001b[0m\u001b[1;33m,\u001b[0m\u001b[0mself\u001b[0m\u001b[1;33m.\u001b[0m\u001b[0mt0\u001b[0m\u001b[1;33m\u001b[0m\u001b[0m\n",
      "\u001b[0;32m    110 \u001b[0m\u001b[1;33m\u001b[0m\u001b[0m\n",
      "\u001b[0;32m    111 \u001b[0m        \u001b[0mL\u001b[0m \u001b[1;33m=\u001b[0m \u001b[0mself\u001b[0m\u001b[1;33m.\u001b[0m\u001b[0mcompute_L\u001b[0m\u001b[1;33m(\u001b[0m\u001b[0momega\u001b[0m\u001b[1;33m)\u001b[0m\u001b[1;33m\u001b[0m\u001b[0m\n",
      "\u001b[0;32m    112 \u001b[0m\u001b[1;33m\u001b[0m\u001b[0m\n",
      "\u001b[0;32m    113 \u001b[0m        \u001b[0mT\u001b[0m \u001b[1;33m=\u001b[0m \u001b[1;33m(\u001b[0m \u001b[0mL\u001b[0m\u001b[1;33m*\u001b[0m\u001b[0mG_sn\u001b[0m \u001b[1;33m*\u001b[0m \u001b[0mexp\u001b[0m\u001b[1;33m(\u001b[0m\u001b[1;36m1j\u001b[0m\u001b[1;33m*\u001b[0m\u001b[0momega\u001b[0m \u001b[1;33m*\u001b[0m\u001b[0mt0\u001b[0m \u001b[1;33m/\u001b[0m \u001b[1;36m2.\u001b[0m\u001b[1;33m)\u001b[0m  \u001b[1;33m)\u001b[0m  \u001b[1;33m/\u001b[0m \u001b[1;33m(\u001b[0m \u001b[1;36m1\u001b[0m \u001b[1;33m-\u001b[0m \u001b[0mL\u001b[0m\u001b[1;33m*\u001b[0m\u001b[0mG_sr\u001b[0m \u001b[1;33m*\u001b[0m \u001b[0mL\u001b[0m \u001b[1;33m*\u001b[0m \u001b[0mG_rs\u001b[0m\u001b[1;33m)\u001b[0m\u001b[1;33m\u001b[0m\u001b[0m\n",
      "\u001b[0;32m    114 \u001b[0m\u001b[1;33m\u001b[0m\u001b[0m\n",
      "\u001b[0;32m    115 \u001b[0m        \u001b[1;32mreturn\u001b[0m \u001b[0mT\u001b[0m\u001b[1;33m\u001b[0m\u001b[0m\n",
      "\u001b[0;32m    116 \u001b[0m\u001b[1;33m\u001b[0m\u001b[0m\n",
      "\u001b[0;32m    117 \u001b[0m\u001b[1;33m\u001b[0m\u001b[0m\n",
      "\u001b[0;32m    118 \u001b[0m    \u001b[1;32mdef\u001b[0m \u001b[0mcompute_S\u001b[0m\u001b[1;33m(\u001b[0m\u001b[0mself\u001b[0m\u001b[1;33m,\u001b[0m\u001b[0momega\u001b[0m\u001b[1;33m)\u001b[0m\u001b[1;33m:\u001b[0m\u001b[1;33m\u001b[0m\u001b[0m\n",
      "\u001b[0;32m    119 \u001b[0m\u001b[1;33m\u001b[0m\u001b[0m\n",
      "\u001b[0;32m    120 \u001b[0m        \u001b[0mG_se\u001b[0m\u001b[1;33m,\u001b[0m\u001b[0mG_sr\u001b[0m\u001b[1;33m,\u001b[0m\u001b[0mG_re\u001b[0m\u001b[1;33m,\u001b[0m\u001b[0mG_rs\u001b[0m\u001b[1;33m,\u001b[0m\u001b[0mt0\u001b[0m \u001b[1;33m=\u001b[0m \u001b[0mself\u001b[0m\u001b[1;33m.\u001b[0m\u001b[0mG_se\u001b[0m\u001b[1;33m,\u001b[0m\u001b[0mself\u001b[0m\u001b[1;33m.\u001b[0m\u001b[0mG_sr\u001b[0m\u001b[1;33m,\u001b[0m\u001b[0mself\u001b[0m\u001b[1;33m.\u001b[0m\u001b[0mG_re\u001b[0m\u001b[1;33m,\u001b[0m\u001b[0mself\u001b[0m\u001b[1;33m.\u001b[0m\u001b[0mG_rs\u001b[0m\u001b[1;33m,\u001b[0m\u001b[0mself\u001b[0m\u001b[1;33m.\u001b[0m\u001b[0mt0\u001b[0m\u001b[1;33m\u001b[0m\u001b[0m\n",
      "\u001b[0;32m    121 \u001b[0m\u001b[1;33m\u001b[0m\u001b[0m\n",
      "\u001b[0;32m    122 \u001b[0m        \u001b[1;31m# Rowe et al. Eq. 10\u001b[0m\u001b[1;33m\u001b[0m\u001b[1;33m\u001b[0m\u001b[0m\n",
      "\u001b[0;32m    123 \u001b[0m\u001b[1;33m\u001b[0m\u001b[0m\n",
      "\u001b[0;32m    124 \u001b[0m        \u001b[0mL\u001b[0m \u001b[1;33m=\u001b[0m \u001b[0mself\u001b[0m\u001b[1;33m.\u001b[0m\u001b[0mcompute_L\u001b[0m\u001b[1;33m(\u001b[0m\u001b[0momega\u001b[0m\u001b[1;33m)\u001b[0m\u001b[1;33m\u001b[0m\u001b[0m\n",
      "\u001b[0;32m    125 \u001b[0m\u001b[1;33m\u001b[0m\u001b[0m\n",
      "\u001b[0;32m    126 \u001b[0m        \u001b[0mS\u001b[0m \u001b[1;33m=\u001b[0m \u001b[1;33m(\u001b[0m \u001b[1;33m(\u001b[0m\u001b[0mL\u001b[0m \u001b[1;33m*\u001b[0m \u001b[0mG_se\u001b[0m \u001b[1;33m+\u001b[0m \u001b[0mL\u001b[0m \u001b[1;33m*\u001b[0m \u001b[0mG_sr\u001b[0m \u001b[1;33m+\u001b[0m \u001b[0mL\u001b[0m \u001b[1;33m*\u001b[0m \u001b[0mG_re\u001b[0m \u001b[1;33m)\u001b[0m \u001b[1;33m*\u001b[0m \u001b[0mexp\u001b[0m\u001b[1;33m(\u001b[0m\u001b[1;36m1j\u001b[0m\u001b[1;33m*\u001b[0m\u001b[0momega\u001b[0m\u001b[1;33m*\u001b[0m\u001b[0mt0\u001b[0m \u001b[1;33m/\u001b[0m \u001b[1;36m2.\u001b[0m\u001b[1;33m)\u001b[0m \u001b[1;33m)\u001b[0m \u001b[1;33m/\u001b[0m \u001b[1;33m(\u001b[0m \u001b[1;36m1.\u001b[0m \u001b[1;33m-\u001b[0m \u001b[0mL\u001b[0m \u001b[1;33m*\u001b[0m \u001b[0mG_sr\u001b[0m \u001b[1;33m*\u001b[0m \u001b[0mL\u001b[0m \u001b[1;33m*\u001b[0m \u001b[0mG_rs\u001b[0m\u001b[1;33m)\u001b[0m\u001b[1;33m\u001b[0m\u001b[0m\n",
      "\u001b[0;32m    127 \u001b[0m\u001b[1;33m\u001b[0m\u001b[0m\n",
      "\u001b[0;32m    128 \u001b[0m        \u001b[1;32mreturn\u001b[0m \u001b[0mS\u001b[0m\u001b[1;33m\u001b[0m\u001b[0m\n",
      "\u001b[0;32m    129 \u001b[0m\u001b[1;33m\u001b[0m\u001b[0m\n",
      "\u001b[0;32m    130 \u001b[0m\u001b[1;33m\u001b[0m\u001b[0m\n",
      "\u001b[0;32m    131 \u001b[0m    \u001b[1;32mdef\u001b[0m \u001b[0mcompute_q2r2\u001b[0m\u001b[1;33m(\u001b[0m\u001b[0mself\u001b[0m\u001b[1;33m,\u001b[0m\u001b[0momega\u001b[0m\u001b[1;33m)\u001b[0m\u001b[1;33m:\u001b[0m\u001b[1;33m\u001b[0m\u001b[0m\n",
      "\u001b[0;32m    132 \u001b[0m\u001b[1;33m\u001b[0m\u001b[0m\n",
      "\u001b[0;32m    133 \u001b[0m        \u001b[0mG_ee\u001b[0m\u001b[1;33m,\u001b[0m\u001b[0mG_es\u001b[0m\u001b[1;33m,\u001b[0m\u001b[0mG_ei\u001b[0m\u001b[1;33m,\u001b[0m\u001b[0mgamma\u001b[0m \u001b[1;33m=\u001b[0m \u001b[0mself\u001b[0m\u001b[1;33m.\u001b[0m\u001b[0mG_ee\u001b[0m\u001b[1;33m,\u001b[0m\u001b[0mself\u001b[0m\u001b[1;33m.\u001b[0m\u001b[0mG_es\u001b[0m\u001b[1;33m,\u001b[0m\u001b[0mself\u001b[0m\u001b[1;33m.\u001b[0m\u001b[0mG_ej\u001b[0m\u001b[1;33m,\u001b[0m\u001b[0mself\u001b[0m\u001b[1;33m.\u001b[0m\u001b[0mgamma\u001b[0m\u001b[1;33m\u001b[0m\u001b[0m\n",
      "\u001b[0;32m    134 \u001b[0m\u001b[1;33m\u001b[0m\u001b[0m\n",
      "\u001b[0;32m    135 \u001b[0m        \u001b[1;31m# Eq 12\u001b[0m\u001b[1;33m\u001b[0m\u001b[1;33m\u001b[0m\u001b[0m\n",
      "\u001b[0;32m    136 \u001b[0m        \u001b[0mL\u001b[0m \u001b[1;33m=\u001b[0m \u001b[0mself\u001b[0m\u001b[1;33m.\u001b[0m\u001b[0mcompute_L\u001b[0m\u001b[1;33m(\u001b[0m\u001b[0momega\u001b[0m\u001b[1;33m)\u001b[0m\u001b[1;33m\u001b[0m\u001b[0m\n",
      "\u001b[0;32m    137 \u001b[0m        \u001b[0mS\u001b[0m \u001b[1;33m=\u001b[0m \u001b[0mself\u001b[0m\u001b[1;33m.\u001b[0m\u001b[0mcompute_S\u001b[0m\u001b[1;33m(\u001b[0m\u001b[0momega\u001b[0m\u001b[1;33m)\u001b[0m\u001b[1;33m\u001b[0m\u001b[0m\n",
      "\u001b[0;32m    138 \u001b[0m\u001b[1;33m\u001b[0m\u001b[0m\n",
      "\u001b[0;32m    139 \u001b[0m        \u001b[0mq2r2\u001b[0m \u001b[1;33m=\u001b[0m \u001b[1;33m(\u001b[0m \u001b[1;36m1\u001b[0m \u001b[1;33m-\u001b[0m \u001b[1;33m(\u001b[0m\u001b[1;33m(\u001b[0m\u001b[1;36m1j\u001b[0m \u001b[1;33m*\u001b[0m \u001b[0momega\u001b[0m\u001b[1;33m)\u001b[0m \u001b[1;33m/\u001b[0m \u001b[0mgamma\u001b[0m\u001b[1;33m)\u001b[0m\u001b[1;33m)\u001b[0m\u001b[1;33m**\u001b[0m\u001b[1;36m2\u001b[0m    \u001b[1;33m-\u001b[0m \u001b[1;33m(\u001b[0m \u001b[1;33m(\u001b[0m\u001b[0mG_ee\u001b[0m \u001b[1;33m*\u001b[0m \u001b[0mL\u001b[0m \u001b[1;33m+\u001b[0m \u001b[0mG_es\u001b[0m \u001b[1;33m*\u001b[0m \u001b[0mL\u001b[0m \u001b[1;33m*\u001b[0m \u001b[0mS\u001b[0m \u001b[1;33m)\u001b[0m \u001b[1;33m/\u001b[0m \u001b[1;33m(\u001b[0m\u001b[1;36m1\u001b[0m \u001b[1;33m-\u001b[0m \u001b[0mG_ei\u001b[0m \u001b[1;33m*\u001b[0m \u001b[0mL\u001b[0m\u001b[1;33m)\u001b[0m \u001b[1;33m)\u001b[0m\u001b[1;33m\u001b[0m\u001b[0m\n",
      "\u001b[0;32m    140 \u001b[0m\u001b[1;33m\u001b[0m\u001b[0m\n",
      "\u001b[0;32m    141 \u001b[0m        \u001b[1;32mreturn\u001b[0m \u001b[0mq2r2\u001b[0m\u001b[1;33m\u001b[0m\u001b[0m\n",
      "\u001b[0;32m    142 \u001b[0m\u001b[1;33m\u001b[0m\u001b[0m\n",
      "\u001b[0;32m    143 \u001b[0m\u001b[1;33m\u001b[0m\u001b[0m\n",
      "\u001b[0;32m    144 \u001b[0m\u001b[1;33m\u001b[0m\u001b[0m\n",
      "\u001b[0;32m    145 \u001b[0m\u001b[1;33m\u001b[0m\u001b[0m\n",
      "\u001b[0;32m    146 \u001b[0m    \u001b[1;32mdef\u001b[0m \u001b[0mcompute_P0\u001b[0m\u001b[1;33m(\u001b[0m\u001b[0mself\u001b[0m\u001b[1;33m)\u001b[0m\u001b[1;33m:\u001b[0m\u001b[1;33m\u001b[0m\u001b[0m\n",
      "\u001b[0;32m    147 \u001b[0m\u001b[1;33m\u001b[0m\u001b[0m\n",
      "\u001b[0;32m    148 \u001b[0m        \u001b[1;31m# Eq 13\u001b[0m\u001b[1;33m\u001b[0m\u001b[1;33m\u001b[0m\u001b[0m\n",
      "\u001b[0;32m    149 \u001b[0m\u001b[1;33m\u001b[0m\u001b[0m\n",
      "\u001b[0;32m    150 \u001b[0m        \u001b[0mphi_n\u001b[0m\u001b[1;33m,\u001b[0m\u001b[0mG_es\u001b[0m\u001b[1;33m,\u001b[0m\u001b[0mG_sn\u001b[0m\u001b[1;33m,\u001b[0m\u001b[0mr_e\u001b[0m \u001b[1;33m=\u001b[0m \u001b[0mself\u001b[0m\u001b[1;33m.\u001b[0m\u001b[0mphi_n\u001b[0m\u001b[1;33m,\u001b[0m\u001b[0mself\u001b[0m\u001b[1;33m.\u001b[0m\u001b[0mG_es\u001b[0m\u001b[1;33m,\u001b[0m\u001b[0mself\u001b[0m\u001b[1;33m.\u001b[0m\u001b[0mG_sn\u001b[0m\u001b[1;33m,\u001b[0m\u001b[0mself\u001b[0m\u001b[1;33m.\u001b[0m\u001b[0mr_e\u001b[0m\u001b[1;33m\u001b[0m\u001b[0m\n",
      "\u001b[0;32m    151 \u001b[0m\u001b[1;33m\u001b[0m\u001b[0m\n",
      "\u001b[1;32m--> 152 \u001b[1;33m        \u001b[0mP0\u001b[0m \u001b[1;33m=\u001b[0m \u001b[1;33m(\u001b[0m\u001b[1;33m(\u001b[0m \u001b[0mpi\u001b[0m \u001b[1;33m*\u001b[0m \u001b[0mabs\u001b[0m\u001b[1;33m(\u001b[0m\u001b[0mphi_n\u001b[0m\u001b[1;33m)\u001b[0m\u001b[1;33m**\u001b[0m\u001b[1;36m2\u001b[0m \u001b[1;33m)\u001b[0m \u001b[1;33m/\u001b[0m \u001b[0mr_e\u001b[0m\u001b[1;33m**\u001b[0m\u001b[1;36m2\u001b[0m \u001b[1;33m)\u001b[0m \u001b[1;33m*\u001b[0m \u001b[0mG_es\u001b[0m \u001b[1;33m*\u001b[0m \u001b[0mG_sn\u001b[0m\u001b[1;33m\u001b[0m\u001b[0m\n",
      "\u001b[0m\u001b[0;32m    153 \u001b[0m\u001b[1;33m\u001b[0m\u001b[0m\n",
      "\u001b[0;32m    154 \u001b[0m        \u001b[1;32mreturn\u001b[0m \u001b[0mP0\u001b[0m\u001b[1;33m\u001b[0m\u001b[0m\n",
      "\u001b[0;32m    155 \u001b[0m\u001b[1;33m\u001b[0m\u001b[0m\n",
      "\u001b[0;32m    156 \u001b[0m    \u001b[1;32mdef\u001b[0m \u001b[0mcompute_k2r2\u001b[0m\u001b[1;33m(\u001b[0m\u001b[0mself\u001b[0m\u001b[1;33m,\u001b[0m\u001b[0mm\u001b[0m\u001b[1;33m,\u001b[0m\u001b[0mn\u001b[0m\u001b[1;33m)\u001b[0m\u001b[1;33m:\u001b[0m\u001b[1;33m\u001b[0m\u001b[0m\n",
      "\u001b[0;32m    157 \u001b[0m\u001b[1;33m\u001b[0m\u001b[0m\n",
      "\u001b[0;32m    158 \u001b[0m        \u001b[0mr_e\u001b[0m\u001b[1;33m,\u001b[0m\u001b[0mlx\u001b[0m\u001b[1;33m,\u001b[0m\u001b[0mly\u001b[0m \u001b[1;33m=\u001b[0m \u001b[0mself\u001b[0m\u001b[1;33m.\u001b[0m\u001b[0mr_e\u001b[0m\u001b[1;33m,\u001b[0m\u001b[0mself\u001b[0m\u001b[1;33m.\u001b[0m\u001b[0mlx\u001b[0m\u001b[1;33m,\u001b[0m\u001b[0mself\u001b[0m\u001b[1;33m.\u001b[0m\u001b[0mly\u001b[0m\u001b[1;33m\u001b[0m\u001b[0m\n",
      "\u001b[0;32m    159 \u001b[0m\u001b[1;33m\u001b[0m\u001b[0m\n",
      "\u001b[0;32m    160 \u001b[0m        \u001b[0mterm1\u001b[0m \u001b[1;33m=\u001b[0m \u001b[1;33m(\u001b[0m\u001b[1;36m2.\u001b[0m \u001b[1;33m*\u001b[0m \u001b[0mpi\u001b[0m \u001b[1;33m**\u001b[0m \u001b[0mm\u001b[0m \u001b[1;33m*\u001b[0m \u001b[0mr_e\u001b[0m \u001b[1;33m/\u001b[0m \u001b[0mlx\u001b[0m\u001b[1;33m)\u001b[0m\u001b[1;33m**\u001b[0m\u001b[1;36m2\u001b[0m\u001b[1;33m\u001b[0m\u001b[0m\n",
      "\n",
      "ipdb> u\n",
      "> \u001b[1;32m<ipython-input-68-cff400072d0d>\u001b[0m(9)\u001b[0;36m<module>\u001b[1;34m()\u001b[0m\n",
      "\u001b[1;32m      7 \u001b[1;33m\u001b[0mS\u001b[0m \u001b[1;33m=\u001b[0m \u001b[0mmod\u001b[0m\u001b[1;33m.\u001b[0m\u001b[0mcompute_S\u001b[0m\u001b[1;33m(\u001b[0m\u001b[0mfreqs\u001b[0m\u001b[1;33m)\u001b[0m\u001b[1;33m\u001b[0m\u001b[0m\n",
      "\u001b[0m\u001b[1;32m      8 \u001b[1;33m\u001b[1;33m\u001b[0m\u001b[0m\n",
      "\u001b[0m\u001b[1;32m----> 9 \u001b[1;33m\u001b[0mP0\u001b[0m \u001b[1;33m=\u001b[0m \u001b[0mmod\u001b[0m\u001b[1;33m.\u001b[0m\u001b[0mcompute_P0\u001b[0m\u001b[1;33m(\u001b[0m\u001b[1;33m)\u001b[0m\u001b[1;31m#freqs)\u001b[0m\u001b[1;33m\u001b[0m\u001b[0m\n",
      "\u001b[0m\u001b[1;32m     10 \u001b[1;33m\u001b[1;33m\u001b[0m\u001b[0m\n",
      "\u001b[0m\u001b[1;32m     11 \u001b[1;33m\u001b[0mEEG\u001b[0m \u001b[1;33m=\u001b[0m \u001b[0mmod\u001b[0m\u001b[1;33m.\u001b[0m\u001b[0mcompute_P_EEG\u001b[0m\u001b[1;33m(\u001b[0m\u001b[1;33m)\u001b[0m\u001b[1;31m#freqs)\u001b[0m\u001b[1;33m\u001b[0m\u001b[0m\n",
      "\u001b[0m\n"
     ]
    },
    {
     "name": "stdout",
     "output_type": "stream",
     "text": [
      "ipdb> d\n",
      "> \u001b[1;32m<ipython-input-67-5c34f85fa6a8>\u001b[0m(152)\u001b[0;36mcompute_P0\u001b[1;34m()\u001b[0m\n",
      "\u001b[1;32m    150 \u001b[1;33m        \u001b[0mphi_n\u001b[0m\u001b[1;33m,\u001b[0m\u001b[0mG_es\u001b[0m\u001b[1;33m,\u001b[0m\u001b[0mG_sn\u001b[0m\u001b[1;33m,\u001b[0m\u001b[0mr_e\u001b[0m \u001b[1;33m=\u001b[0m \u001b[0mself\u001b[0m\u001b[1;33m.\u001b[0m\u001b[0mphi_n\u001b[0m\u001b[1;33m,\u001b[0m\u001b[0mself\u001b[0m\u001b[1;33m.\u001b[0m\u001b[0mG_es\u001b[0m\u001b[1;33m,\u001b[0m\u001b[0mself\u001b[0m\u001b[1;33m.\u001b[0m\u001b[0mG_sn\u001b[0m\u001b[1;33m,\u001b[0m\u001b[0mself\u001b[0m\u001b[1;33m.\u001b[0m\u001b[0mr_e\u001b[0m\u001b[1;33m\u001b[0m\u001b[0m\n",
      "\u001b[0m\u001b[1;32m    151 \u001b[1;33m\u001b[1;33m\u001b[0m\u001b[0m\n",
      "\u001b[0m\u001b[1;32m--> 152 \u001b[1;33m        \u001b[0mP0\u001b[0m \u001b[1;33m=\u001b[0m \u001b[1;33m(\u001b[0m\u001b[1;33m(\u001b[0m \u001b[0mpi\u001b[0m \u001b[1;33m*\u001b[0m \u001b[0mabs\u001b[0m\u001b[1;33m(\u001b[0m\u001b[0mphi_n\u001b[0m\u001b[1;33m)\u001b[0m\u001b[1;33m**\u001b[0m\u001b[1;36m2\u001b[0m \u001b[1;33m)\u001b[0m \u001b[1;33m/\u001b[0m \u001b[0mr_e\u001b[0m\u001b[1;33m**\u001b[0m\u001b[1;36m2\u001b[0m \u001b[1;33m)\u001b[0m \u001b[1;33m*\u001b[0m \u001b[0mG_es\u001b[0m \u001b[1;33m*\u001b[0m \u001b[0mG_sn\u001b[0m\u001b[1;33m\u001b[0m\u001b[0m\n",
      "\u001b[0m\u001b[1;32m    153 \u001b[1;33m\u001b[1;33m\u001b[0m\u001b[0m\n",
      "\u001b[0m\u001b[1;32m    154 \u001b[1;33m        \u001b[1;32mreturn\u001b[0m \u001b[0mP0\u001b[0m\u001b[1;33m\u001b[0m\u001b[0m\n",
      "\u001b[0m\n",
      "ipdb> r_e\n",
      "ipdb> c\n"
     ]
    }
   ],
   "source": [
    "%debug"
   ]
  },
  {
   "cell_type": "markdown",
   "metadata": {},
   "source": [
    "---"
   ]
  },
  {
   "cell_type": "code",
   "execution_count": null,
   "metadata": {},
   "outputs": [],
   "source": []
  },
  {
   "cell_type": "code",
   "execution_count": null,
   "metadata": {},
   "outputs": [],
   "source": []
  },
  {
   "cell_type": "code",
   "execution_count": null,
   "metadata": {},
   "outputs": [],
   "source": []
  },
  {
   "cell_type": "code",
   "execution_count": null,
   "metadata": {},
   "outputs": [],
   "source": []
  },
  {
   "cell_type": "code",
   "execution_count": null,
   "metadata": {},
   "outputs": [],
   "source": []
  },
  {
   "cell_type": "code",
   "execution_count": null,
   "metadata": {},
   "outputs": [],
   "source": []
  },
  {
   "cell_type": "code",
   "execution_count": null,
   "metadata": {},
   "outputs": [],
   "source": []
  },
  {
   "cell_type": "code",
   "execution_count": 51,
   "metadata": {},
   "outputs": [],
   "source": [
    "class RobinsonSpectralNFTModel(object):\n",
    "\n",
    "    def __init__(self,alpha = 88.,gamma = 71.8, t_0 = 79.2,\n",
    "                 G_ee = 3.8,G_ei = -8.,G_ese = 10.8, G_esre = -5.7,\n",
    "                 G_srs = -0.34, p_0 = 2.94,\n",
    "                 r_e=80.):\n",
    "        \n",
    "        # Initialize parameters\n",
    "        \n",
    "        self.alpha = alpha\n",
    "        self.gamma = ggamma\n",
    "        self.t_0 = t_0\n",
    "        self.G_ee = G_ee\n",
    "        self.G_ei = G_ei\n",
    "        self.G_ese = G_es*G_se # G_ese\n",
    "        self.G_esre = G_es*G_sr*G_re #G_esre\n",
    "        self.G_srs = G_srs\n",
    "        self.p_0 = p_0\n",
    "        \n",
    "        self.r_e = r_e # what is right value o fthis?\n",
    "        \n",
    "    def compute_P_the(self,omega):\n",
    "        \n",
    "        p_eeg = self.compute_P_EEG(omega)\n",
    "        p_emg = self.compute_P_EMG(omega)\n",
    "        \n",
    "        return p_eeg + p_emg\n",
    "    \n",
    "    \n",
    "    def compute_P_EEG(self,omega):\n",
    "        \n",
    "        G_es,G_sn,r_e,t_0 = self.G_es,self.G_sn,self.r_e,self.t_0\n",
    "        L,P = self.L,self.P\n",
    "        \n",
    "        # Eq. 19\n",
    "        term1 = ((pi * abs(phi_n)**2) / r_e**2) * G_es**2 * G_sn**2\n",
    "        term2 = abs(L**2 * exp(i * omega * t0/ 2.))**2 * P\n",
    "        \n",
    "        return term1*term2    \n",
    "\n",
    "\n",
    "    \n",
    "    def compute_P(self):\n",
    "        \n",
    "        r_e,L_x,L_y,ks,k_0 = self.r_e,self.L_x,self.L_y,self.ks,self.K_0\n",
    "        #r_e,Lx,Ly,ks,k_0,q):\n",
    "        \n",
    "        # Eq. 21\n",
    "        term1 = (4. * pi * r_e**2.)/(L_x*L_y)\n",
    "    \n",
    "        term2 = 0\n",
    "        for m in np.arange(-M,M):\n",
    "            for n in np.arange(-N,N):\n",
    "                term2 += exp(L**2,-ks[m,n]**2. / k0**2.) / \\\n",
    "                          abs(ks[m,n]**2,r_e**2 + q**2 * r_e**2)\n",
    "                      \n",
    "        return term2 * term2\n",
    "    \n",
    "        \n",
    "    def compute_P_EMG(self,omega):\n",
    "        \n",
    "        # Eq. 22\n",
    "    \n",
    "        term1 = self.A_EMG\n",
    "        term2 = (omega/omega_EMG)**2. / (1+ (omega/omega_EMG)**2 )**2\n",
    "    \n",
    "        return term1 * term2\n",
    "    \n",
    "\n",
    "    \n",
    "    \n",
    "                            \n",
    "        "
   ]
  },
  {
   "cell_type": "markdown",
   "metadata": {},
   "source": [
    "## Do it"
   ]
  },
  {
   "cell_type": "code",
   "execution_count": 24,
   "metadata": {},
   "outputs": [],
   "source": [
    "# Table 1\n",
    "sigma_e = 3.3\n",
    "theta_e = 15.\n",
    "alpha = 40.\n",
    "beta_over_alpha = 4.0\n",
    "beta = beta_over_alpha * alpha\n",
    "r_e = 80.\n",
    "r_i = r_e = r_s = None\n",
    "va = 8.\n",
    "t0 = 84.\n",
    "K0 = 30.\n",
    "v_ee = v_es = v_se = 1.2\n",
    "v_ei = -1.8\n",
    "v_re = 0.4\n",
    "v_rs = 0.2\n",
    "v_sr = -0.8\n",
    "\n",
    "v_sn_phi_n = 1.0\n",
    "\n",
    "gamma_e = 130.\n",
    "\n",
    "gamma_i = gamma_r = gamma_s = 10E4\n",
    "\n",
    "Q_a = 250.\n",
    "\n",
    "G_ee = 6.\n",
    "G_ei = -7.\n",
    "G_srs = -0.4\n",
    "G_esre = -3. \n",
    "G_ese = 5.\n",
    "\n",
    "\n",
    "#rho_a = \n",
    "#G_ee gamma_e    \n",
    "\n"
   ]
  },
  {
   "cell_type": "code",
   "execution_count": 31,
   "metadata": {},
   "outputs": [
    {
     "data": {
      "text/plain": [
       "100.0"
      ]
     },
     "execution_count": 31,
     "metadata": {},
     "output_type": "execute_result"
    }
   ],
   "source": [
    "mod.freqs.max()"
   ]
  },
  {
   "cell_type": "code",
   "execution_count": 54,
   "metadata": {},
   "outputs": [
    {
     "name": "stdout",
     "output_type": "stream",
     "text": [
      "> \u001b[1;32m<ipython-input-50-5727a3173c47>\u001b[0m(155)\u001b[0;36mcompute_k2r2\u001b[1;34m()\u001b[0m\n",
      "\u001b[1;32m    153 \u001b[1;33m        \u001b[0mr_e\u001b[0m\u001b[1;33m,\u001b[0m\u001b[0mlx\u001b[0m\u001b[1;33m,\u001b[0m\u001b[0mly\u001b[0m \u001b[1;33m=\u001b[0m \u001b[0mself\u001b[0m\u001b[1;33m.\u001b[0m\u001b[0mr_e\u001b[0m\u001b[1;33m,\u001b[0m\u001b[0mself\u001b[0m\u001b[1;33m.\u001b[0m\u001b[0mlx\u001b[0m\u001b[1;33m,\u001b[0m\u001b[0mself\u001b[0m\u001b[1;33m.\u001b[0m\u001b[0mly\u001b[0m\u001b[1;33m\u001b[0m\u001b[0m\n",
      "\u001b[0m\u001b[1;32m    154 \u001b[1;33m\u001b[1;33m\u001b[0m\u001b[0m\n",
      "\u001b[0m\u001b[1;32m--> 155 \u001b[1;33m        \u001b[0mterm1\u001b[0m \u001b[1;33m=\u001b[0m \u001b[1;33m(\u001b[0m\u001b[1;36m2.\u001b[0m \u001b[1;33m*\u001b[0m \u001b[0mpi\u001b[0m \u001b[1;33m**\u001b[0m \u001b[0mm\u001b[0m \u001b[1;33m*\u001b[0m \u001b[0mr_e\u001b[0m \u001b[1;33m/\u001b[0m \u001b[0mlx\u001b[0m\u001b[1;33m)\u001b[0m\u001b[1;33m**\u001b[0m\u001b[1;36m2\u001b[0m\u001b[1;33m\u001b[0m\u001b[0m\n",
      "\u001b[0m\u001b[1;32m    156 \u001b[1;33m        \u001b[0mterm2\u001b[0m \u001b[1;33m=\u001b[0m \u001b[1;33m(\u001b[0m\u001b[1;36m2.\u001b[0m \u001b[1;33m*\u001b[0m \u001b[0mpi\u001b[0m \u001b[1;33m*\u001b[0m \u001b[0mn\u001b[0m \u001b[1;33m*\u001b[0m \u001b[0mr_e\u001b[0m \u001b[1;33m/\u001b[0m \u001b[0mly\u001b[0m\u001b[1;33m)\u001b[0m\u001b[1;33m**\u001b[0m\u001b[1;36m2\u001b[0m\u001b[1;33m\u001b[0m\u001b[0m\n",
      "\u001b[0m\u001b[1;32m    157 \u001b[1;33m\u001b[1;33m\u001b[0m\u001b[0m\n",
      "\u001b[0m\n",
      "ipdb> r_e\n",
      "ipdb> lx\n",
      "0.5\n",
      "ipdb> pi\n",
      "3.141592653589793\n",
      "ipdb> 2.\n",
      "2.0\n",
      "ipdb> c\n"
     ]
    }
   ],
   "source": [
    "%debug"
   ]
  },
  {
   "cell_type": "code",
   "execution_count": 43,
   "metadata": {},
   "outputs": [
    {
     "name": "stderr",
     "output_type": "stream",
     "text": [
      "c:\\users\\john\\miniconda2\\lib\\site-packages\\ipykernel_launcher.py:173: RuntimeWarning: divide by zero encountered in divide\n",
      "c:\\users\\john\\miniconda2\\lib\\site-packages\\ipykernel_launcher.py:173: RuntimeWarning: invalid value encountered in divide\n"
     ]
    },
    {
     "ename": "TypeError",
     "evalue": "range() integer end argument expected, got float.",
     "output_type": "error",
     "traceback": [
      "\u001b[1;31m---------------------------------------------------------------------------\u001b[0m",
      "\u001b[1;31mTypeError\u001b[0m                                 Traceback (most recent call last)",
      "\u001b[1;32m<ipython-input-43-a314cfa8854a>\u001b[0m in \u001b[0;36m<module>\u001b[1;34m()\u001b[0m\n\u001b[0;32m      9\u001b[0m \u001b[0mP0\u001b[0m \u001b[1;33m=\u001b[0m \u001b[0mmod\u001b[0m\u001b[1;33m.\u001b[0m\u001b[0mcompute_P0\u001b[0m\u001b[1;33m(\u001b[0m\u001b[1;33m)\u001b[0m\u001b[1;31m#freqs)\u001b[0m\u001b[1;33m\u001b[0m\u001b[0m\n\u001b[0;32m     10\u001b[0m \u001b[1;33m\u001b[0m\u001b[0m\n\u001b[1;32m---> 11\u001b[1;33m \u001b[0mEEG\u001b[0m \u001b[1;33m=\u001b[0m \u001b[0mmod\u001b[0m\u001b[1;33m.\u001b[0m\u001b[0mcompute_P_EEG\u001b[0m\u001b[1;33m(\u001b[0m\u001b[1;33m)\u001b[0m\u001b[1;31m#freqs)\u001b[0m\u001b[1;33m\u001b[0m\u001b[0m\n\u001b[0m",
      "\u001b[1;32m<ipython-input-35-a472ab393283>\u001b[0m in \u001b[0;36mcompute_P_EEG\u001b[1;34m(self)\u001b[0m\n\u001b[0;32m    174\u001b[0m \u001b[1;33m\u001b[0m\u001b[0m\n\u001b[0;32m    175\u001b[0m         \u001b[0mterm2\u001b[0m \u001b[1;33m=\u001b[0m \u001b[1;36m0\u001b[0m\u001b[1;33m\u001b[0m\u001b[0m\n\u001b[1;32m--> 176\u001b[1;33m         \u001b[1;32mfor\u001b[0m \u001b[0mm\u001b[0m \u001b[1;32min\u001b[0m \u001b[0mrange\u001b[0m\u001b[1;33m(\u001b[0m\u001b[1;33m-\u001b[0m\u001b[0mfmax\u001b[0m\u001b[1;33m,\u001b[0m\u001b[0mfmax\u001b[0m\u001b[1;33m)\u001b[0m\u001b[1;33m:\u001b[0m\u001b[1;33m\u001b[0m\u001b[0m\n\u001b[0m\u001b[0;32m    177\u001b[0m             \u001b[1;32mfor\u001b[0m \u001b[0mn\u001b[0m \u001b[1;32min\u001b[0m  \u001b[0mrange\u001b[0m \u001b[1;33m(\u001b[0m\u001b[1;33m-\u001b[0m\u001b[0mfmax\u001b[0m\u001b[1;33m,\u001b[0m\u001b[0mv\u001b[0m\u001b[1;33m)\u001b[0m\u001b[1;33m:\u001b[0m\u001b[1;33m\u001b[0m\u001b[0m\n\u001b[0;32m    178\u001b[0m \u001b[1;33m\u001b[0m\u001b[0m\n",
      "\u001b[1;31mTypeError\u001b[0m: range() integer end argument expected, got float."
     ]
    }
   ],
   "source": [
    "freqs = np.linspace(0,100)\n",
    "\n",
    "mod = Rowe2004Model(freqs=freqs)\n",
    "\n",
    "L = mod.compute_L(freqs)\n",
    "\n",
    "S = mod.compute_S(freqs)\n",
    "\n",
    "P0 = mod.compute_P0()#freqs)\n",
    "\n",
    "EEG = mod.compute_P_EEG()#freqs)"
   ]
  },
  {
   "cell_type": "code",
   "execution_count": 1,
   "metadata": {},
   "outputs": [
    {
     "ename": "NameError",
     "evalue": "name 'np' is not defined",
     "output_type": "error",
     "traceback": [
      "\u001b[1;31m---------------------------------------------------------------------------\u001b[0m",
      "\u001b[1;31mNameError\u001b[0m                                 Traceback (most recent call last)",
      "\u001b[1;32m<ipython-input-1-0aa8437fed12>\u001b[0m in \u001b[0;36m<module>\u001b[1;34m()\u001b[0m\n\u001b[1;32m----> 1\u001b[1;33m \u001b[0mphi_n\u001b[0m \u001b[1;33m=\u001b[0m \u001b[0mnp\u001b[0m\u001b[1;33m.\u001b[0m\u001b[0mrandom\u001b[0m\u001b[1;33m.\u001b[0m\u001b[0mrand\u001b[0m\u001b[1;33m(\u001b[0m\u001b[1;36m1\u001b[0m\u001b[1;33m,\u001b[0m\u001b[1;36m100\u001b[0m\u001b[1;33m)\u001b[0m\u001b[1;33m\u001b[0m\u001b[0m\n\u001b[0m",
      "\u001b[1;31mNameError\u001b[0m: name 'np' is not defined"
     ]
    }
   ],
   "source": [
    "phi_n = np.random.rand(1,100)"
   ]
  },
  {
   "cell_type": "code",
   "execution_count": null,
   "metadata": {},
   "outputs": [],
   "source": []
  }
 ],
 "metadata": {
  "kernelspec": {
   "display_name": "Python 2",
   "language": "python",
   "name": "python2"
  }
 },
 "nbformat": 4,
 "nbformat_minor": 2
}
